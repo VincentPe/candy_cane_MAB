{
 "cells": [
  {
   "cell_type": "code",
   "execution_count": 1,
   "metadata": {},
   "outputs": [
    {
     "name": "stdout",
     "output_type": "stream",
     "text": [
      "Loading environment football failed: No module named 'gfootball'\n"
     ]
    }
   ],
   "source": [
    "from kaggle_environments import make"
   ]
  },
  {
   "cell_type": "code",
   "execution_count": null,
   "metadata": {},
   "outputs": [],
   "source": [
    "## From the Kaggle environment rules:\n",
    "# 100 vending machines (bandits)\n",
    "# Every round each player selects (\"pulls\") a bandit, the likelihood of a reward decreases by 3%\n",
    "# This episode continues for 2000 rounds per player (4000 pulls total)\n",
    "\n",
    "## From the Kaggle dicussions/notebooks\n",
    "# There is about 30-35 machines with an initial reward of 70%+, exploit them asap"
   ]
  },
  {
   "cell_type": "code",
   "execution_count": 70,
   "metadata": {},
   "outputs": [
    {
     "name": "stdout",
     "output_type": "stream",
     "text": [
      "Total reward earned: 742\n",
      "    bandit  arm_pulls   q_value\n",
      "12      12         62  0.109532\n",
      "16      16         55  0.095185\n",
      "10      10         52  0.113214\n",
      "19      19         51  0.092320\n",
      "15      15         47  0.109868\n",
      "..     ...        ...       ...\n",
      "82      82          6  0.109179\n",
      "62      62          6  0.109179\n",
      "80      80          6  0.109179\n",
      "53      53          6  0.109179\n",
      "70      70          6  0.109179\n",
      "\n",
      "[100 rows x 3 columns]\n"
     ]
    }
   ],
   "source": [
    "env = make(\"mab\", debug=True)  # Name must be mab for this competition\n",
    "\n",
    "env.reset() \n",
    "_ = env.run([\"agents/random_agent.py\", \"agents/greedy_agent.py\"])\n",
    "#env.render(mode=\"ipython\", width=800, height=700)"
   ]
  },
  {
   "cell_type": "code",
   "execution_count": 97,
   "metadata": {},
   "outputs": [
    {
     "name": "stdout",
     "output_type": "stream",
     "text": [
      "Total reward earned: 654\n",
      "    bandit  arm_pulls   q_value\n",
      "17      17         53  0.065914\n",
      "62      62         53  0.074744\n",
      "38      38         52  0.073467\n",
      "67      67         49  0.068857\n",
      "7        7         43  0.075637\n",
      "..     ...        ...       ...\n",
      "34      34          6  0.074126\n",
      "42      42          6  0.074126\n",
      "41      41          6  0.074126\n",
      "82      82          6  0.074126\n",
      "99      99          6  0.074126\n",
      "\n",
      "[100 rows x 3 columns]\n",
      "Total reward earned: 633\n",
      "    bandit  arm_pulls   q_value\n",
      "73      73         70  0.151264\n",
      "45      45         65  0.156537\n",
      "6        6         57  0.155845\n",
      "30      30         54  0.153397\n",
      "64      64         53  0.148239\n",
      "..     ...        ...       ...\n",
      "34      34          1  0.000000\n",
      "35      35          1  0.000000\n",
      "9        9          1  0.000000\n",
      "68      68          1  0.000000\n",
      "21      21          1  0.000000\n",
      "\n",
      "[100 rows x 3 columns]\n"
     ]
    }
   ],
   "source": [
    "env = make(\"mab\", debug=True)  # Name must be mab for this competition\n",
    "\n",
    "env.reset() \n",
    "_ = env.run([\"agents/greedy_agent.py\", \"agents/epsilon_greedy_agent.py\"])\n",
    "#env.render(mode=\"ipython\", width=800, height=700)"
   ]
  },
  {
   "cell_type": "code",
   "execution_count": 14,
   "metadata": {},
   "outputs": [
    {
     "name": "stdout",
     "output_type": "stream",
     "text": [
      "Total reward earned: 649\n",
      "    bandit  arm_pulls   q_value\n",
      "76      76         52  0.054882\n",
      "9        9         46  0.068208\n",
      "4        4         44  0.060972\n",
      "95      95         43  0.051533\n",
      "11      11         40  0.060433\n",
      "..     ...        ...       ...\n",
      "51      51          7  0.053926\n",
      "53      53          7  0.053926\n",
      "81      81          7  0.053926\n",
      "59      59          7  0.053926\n",
      "0        0          7  0.053926\n",
      "\n",
      "[100 rows x 3 columns]\n",
      "Total reward earned: 684\n",
      "    bandit  arm_pulls      alpha  beta\n",
      "83      83         48  10.430503  25.0\n",
      "68      68         47  10.711922  24.0\n",
      "21      21         47  11.031509  24.0\n",
      "90      90         46   9.820502  24.0\n",
      "53      53         42   8.807048  23.0\n",
      "..     ...        ...        ...   ...\n",
      "45      45          6   0.832972   7.0\n",
      "7        7          6   0.832972   7.0\n",
      "49      49          6   0.832972   7.0\n",
      "91      91          6   0.832972   7.0\n",
      "2        2          5   0.858734   6.0\n",
      "\n",
      "[100 rows x 4 columns]\n"
     ]
    }
   ],
   "source": [
    "env = make(\"mab\", debug=True)\n",
    "\n",
    "env.reset() \n",
    "_ = env.run([\"agents/greedy_agent.py\", \"agents/thompson_agent.py\"])"
   ]
  },
  {
   "cell_type": "code",
   "execution_count": 24,
   "metadata": {},
   "outputs": [
    {
     "name": "stdout",
     "output_type": "stream",
     "text": [
      "Total reward earned: 660\n",
      "    bandit  arm_pulls      alpha  beta\n",
      "10      10         47  10.580681  24.0\n",
      "64      64         46  11.138136  22.0\n",
      "36      36         43  10.243527  22.0\n",
      "78      78         40   9.634546  22.0\n",
      "19      19         37   8.599543  22.0\n",
      "..     ...        ...        ...   ...\n",
      "58      58          7   0.807983   8.0\n",
      "4        4          7   0.807983   8.0\n",
      "87      87          7   0.807983   8.0\n",
      "63      63          6   0.832972   7.0\n",
      "34      34          6   0.832972   7.0\n",
      "\n",
      "[100 rows x 4 columns]\n",
      "Total reward earned: 683\n",
      "    bandit  arm_pulls      alpha  beta\n",
      "14      14         52  10.100347  28.0\n",
      "71      71         48   7.779311  24.0\n",
      "0        0         46   8.099394  24.0\n",
      "87      87         44   8.918964  25.0\n",
      "47      47         44   6.269153  24.0\n",
      "..     ...        ...        ...   ...\n",
      "29      29          7   0.633251   8.0\n",
      "9        9          7   0.511656   8.0\n",
      "15      15          6   0.614254   7.0\n",
      "4        4          6   0.673027   7.0\n",
      "99      99          6   0.577951   7.0\n",
      "\n",
      "[100 rows x 4 columns]\n"
     ]
    }
   ],
   "source": [
    "env = make(\"mab\", debug=True)  # Name must be mab for this competition\n",
    "\n",
    "env.reset() \n",
    "_ = env.run([\"agents/thompson_agent.py\", \"agents/thompson_agent2.py\"])\n",
    "#env.render(mode=\"ipython\", width=800, height=700)"
   ]
  },
  {
   "cell_type": "code",
   "execution_count": null,
   "metadata": {},
   "outputs": [],
   "source": []
  },
  {
   "cell_type": "code",
   "execution_count": null,
   "metadata": {},
   "outputs": [],
   "source": [
    "# Random score ~550-600\n",
    "# greedy multi arm bandit, step_size 0.1 and initial q_value 1.0 ~650\n",
    "# greedy multi arm bandit, step_size 0.2 and initial q_value 0.5 ~650-750\n",
    "# epsilon greedy vs greedy not much of a difference\n",
    "# 1/n slightly worse than static learning rate\n",
    "# Thompson sampling might be slightly better, hard to get signficant results\n",
    "# Thompson that depreciates values for actions of opponent often performs a bit better\n"
   ]
  }
 ],
 "metadata": {
  "kernelspec": {
   "display_name": "candy_cane",
   "language": "python",
   "name": "candy_cane"
  },
  "language_info": {
   "codemirror_mode": {
    "name": "ipython",
    "version": 3
   },
   "file_extension": ".py",
   "mimetype": "text/x-python",
   "name": "python",
   "nbconvert_exporter": "python",
   "pygments_lexer": "ipython3",
   "version": "3.7.1"
  }
 },
 "nbformat": 4,
 "nbformat_minor": 2
}
