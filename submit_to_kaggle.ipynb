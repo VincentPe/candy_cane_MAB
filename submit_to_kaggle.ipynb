{
 "cells": [
  {
   "cell_type": "code",
   "execution_count": 7,
   "metadata": {},
   "outputs": [
    {
     "name": "stdout",
     "output_type": "stream",
     "text": [
      "Processing c:\\users\\u02vpe\\appdata\\local\\pip\\cache\\wheels\\ea\\c5\\fe\\7e7fb5b3d1f150fac96188949b3d83d375a4c9df16ba557e52\\kaggle-1.5.10-py3-none-any.whl\n",
      "Requirement already satisfied, skipping upgrade: python-slugify in c:\\users\\u02vpe\\appdata\\roaming\\python\\python37\\site-packages (from kaggle) (4.0.1)\n",
      "Requirement already satisfied, skipping upgrade: certifi in c:\\users\\u02vpe\\appdata\\local\\continuum\\anaconda3\\lib\\site-packages (from kaggle) (2020.6.20)\n",
      "Requirement already satisfied, skipping upgrade: urllib3 in c:\\users\\u02vpe\\appdata\\local\\continuum\\anaconda3\\lib\\site-packages (from kaggle) (1.25.9)\n",
      "Requirement already satisfied, skipping upgrade: requests in c:\\users\\u02vpe\\appdata\\local\\continuum\\anaconda3\\lib\\site-packages (from kaggle) (2.24.0)\n",
      "Requirement already satisfied, skipping upgrade: python-dateutil in c:\\users\\u02vpe\\appdata\\local\\continuum\\anaconda3\\lib\\site-packages (from kaggle) (2.7.3)\n",
      "Requirement already satisfied, skipping upgrade: tqdm in c:\\users\\u02vpe\\appdata\\local\\continuum\\anaconda3\\lib\\site-packages (from kaggle) (4.47.0)\n",
      "Requirement already satisfied, skipping upgrade: six>=1.10 in c:\\users\\u02vpe\\appdata\\local\\continuum\\anaconda3\\lib\\site-packages (from kaggle) (1.15.0)\n",
      "Requirement already satisfied, skipping upgrade: text-unidecode>=1.3 in c:\\users\\u02vpe\\appdata\\roaming\\python\\python37\\site-packages (from python-slugify->kaggle) (1.3)\n",
      "Requirement already satisfied, skipping upgrade: chardet<4,>=3.0.2 in c:\\users\\u02vpe\\appdata\\local\\continuum\\anaconda3\\lib\\site-packages (from requests->kaggle) (3.0.4)\n",
      "Requirement already satisfied, skipping upgrade: idna<3,>=2.5 in c:\\users\\u02vpe\\appdata\\local\\continuum\\anaconda3\\lib\\site-packages (from requests->kaggle) (2.10)\n",
      "Installing collected packages: kaggle\n",
      "Successfully installed kaggle-1.5.10\n"
     ]
    }
   ],
   "source": [
    "!pip install kaggle --upgrade"
   ]
  },
  {
   "cell_type": "code",
   "execution_count": 9,
   "metadata": {},
   "outputs": [
    {
     "name": "stdout",
     "output_type": "stream",
     "text": [
      "Kaggle API 1.5.10\n"
     ]
    }
   ],
   "source": [
    "!kaggle --version"
   ]
  },
  {
   "cell_type": "code",
   "execution_count": 10,
   "metadata": {},
   "outputs": [
    {
     "name": "stdout",
     "output_type": "stream",
     "text": [
      "Successfully submitted to Santa 2020 - The Candy Cane Contest"
     ]
    },
    {
     "name": "stderr",
     "output_type": "stream",
     "text": [
      "\n",
      "  0%|          | 0.00/2.47k [00:00<?, ?B/s]\n",
      "100%|##########| 2.47k/2.47k [00:00<00:00, 22.0kB/s]\n",
      "100%|##########| 2.47k/2.47k [00:04<00:00, 555B/s]  \n"
     ]
    },
    {
     "name": "stdout",
     "output_type": "stream",
     "text": [
      "\n"
     ]
    }
   ],
   "source": [
    "!kaggle competitions submit -c santa-2020 -f agents/thompson_agent2.py -m \"Thompson agent\""
   ]
  },
  {
   "cell_type": "code",
   "execution_count": null,
   "metadata": {},
   "outputs": [],
   "source": []
  }
 ],
 "metadata": {
  "kernelspec": {
   "display_name": "candy_cane",
   "language": "python",
   "name": "candy_cane"
  },
  "language_info": {
   "codemirror_mode": {
    "name": "ipython",
    "version": 3
   },
   "file_extension": ".py",
   "mimetype": "text/x-python",
   "name": "python",
   "nbconvert_exporter": "python",
   "pygments_lexer": "ipython3",
   "version": "3.7.1"
  }
 },
 "nbformat": 4,
 "nbformat_minor": 2
}
